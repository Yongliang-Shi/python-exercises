{
 "cells": [
  {
   "cell_type": "markdown",
   "metadata": {},
   "source": [
    "1. Import and test 3 of the functions from your functions exercise file.\n",
    "\n",
    "    Import each function in a different way:\n",
    "\n",
    "    - import the module and refer to the function with the . syntax\n",
    "    - use from to import the function directly\n",
    "    - use from and give the function a different name"
   ]
  },
  {
   "cell_type": "code",
   "execution_count": 83,
   "metadata": {
    "scrolled": true
   },
   "outputs": [
    {
     "name": "stdout",
     "output_type": "stream",
     "text": [
      "[1, 2, 3]\n",
      "[1, 3, 6, 10]\n",
      "10:45\n",
      "16:30\n"
     ]
    },
    {
     "data": {
      "text/plain": [
       "'True'"
      ]
     },
     "execution_count": 83,
     "metadata": {},
     "output_type": "execute_result"
    }
   ],
   "source": [
    "# The first function under the test is \"is_two\"\n",
    "# Method 1: import the module and refer to the function with the .syntax\n",
    "\n",
    "import function_exercises\n",
    "\n",
    "function_exercises.is_two(2)\n",
    "\n",
    "# Restart kernel\n",
    "# I need to clean up my function_exercises.py."
   ]
  },
  {
   "cell_type": "code",
   "execution_count": null,
   "metadata": {},
   "outputs": [],
   "source": [
    "# Method 2: use FROM TO import the function directly\n",
    "\n",
    "from function_exercises import is_two\n",
    "\n",
    "is_two(\"a\")\n",
    "\n",
    "# Take away: even the function is imported directly, it doesn't mean Python only run the imported function, \n",
    "# instead Python run the function_exercises\n",
    "# Restart kernel"
   ]
  },
  {
   "cell_type": "code",
   "execution_count": null,
   "metadata": {},
   "outputs": [],
   "source": [
    "# Method 3: use FROM and give the function a different name\n",
    "\n",
    "from function_exercises import is_two as verify_is_two\n",
    "\n",
    "verify_is_two(\"2\")\n",
    "\n",
    "# Restart kernal"
   ]
  },
  {
   "cell_type": "code",
   "execution_count": null,
   "metadata": {},
   "outputs": [],
   "source": [
    "# The second funtion under test is \"cumulative_sum\"\n",
    "\n",
    "# Method 1: import the module and refer to the function with the . syntax\n",
    "\n",
    "import function_exercises\n",
    "function_exercises.cumulative_sum([1,2,3,4])\n",
    "\n",
    "# Restart kernal"
   ]
  },
  {
   "cell_type": "code",
   "execution_count": null,
   "metadata": {},
   "outputs": [],
   "source": [
    "# Method 2: use FROM to import the function directly\n",
    "\n",
    "from function_exercises import cumulative_sum\n",
    "\n",
    "cumulative_sum([1,2,3,4])\n",
    "\n",
    "# Restart kernal"
   ]
  },
  {
   "cell_type": "code",
   "execution_count": null,
   "metadata": {},
   "outputs": [],
   "source": [
    "# Method 3: use FROM and give the function a different name\n",
    "\n",
    "from function_exercises import cumulative_sum as cs\n",
    "\n",
    "cs([1,2,3,4])\n",
    "\n",
    "# Restart kernal"
   ]
  },
  {
   "cell_type": "code",
   "execution_count": null,
   "metadata": {},
   "outputs": [],
   "source": [
    "# The third function under test is \"col_index\", which contains another function \"letter_to_number\" in it\n",
    "# Method 1: import the module and refer to the function with the . syntax\n",
    "\n",
    "import function_exercises\n",
    "\n",
    "function_exercises.col_index(\"ALF\")\n",
    "\n",
    "# Restart kernal"
   ]
  },
  {
   "cell_type": "code",
   "execution_count": null,
   "metadata": {},
   "outputs": [],
   "source": [
    "# Method 2: use FROM to import the function directly\n",
    "\n",
    "from function_exercises import col_index\n",
    "\n",
    "col_index(\"ALF\")\n",
    "\n",
    "# Restart kernel"
   ]
  },
  {
   "cell_type": "code",
   "execution_count": null,
   "metadata": {},
   "outputs": [],
   "source": [
    "# Method 3: use FROM and give the function a different name\n",
    "\n",
    "from function_exercises import col_index as ci\n",
    "\n",
    "ci(\"ALF\")\n",
    "\n",
    "# Restart kernel"
   ]
  },
  {
   "cell_type": "markdown",
   "metadata": {},
   "source": [
    "For the following exercises, read about and use the itertools module from the standard library to help you solve the problem.\n",
    "\n",
    "1. How many different ways can you combine the letters from \"abc\" with the numbers 1, 2, and 3?\n",
    "2. How many different ways can you combine two of the letters from \"abcd\"?"
   ]
  },
  {
   "cell_type": "code",
   "execution_count": 82,
   "metadata": {
    "scrolled": true
   },
   "outputs": [
    {
     "name": "stdout",
     "output_type": "stream",
     "text": [
      "720\n",
      "('a', 'b', 'c', '1', '2', '3')\n",
      "('a', 'b', 'c', '1', '3', '2')\n",
      "('a', 'b', 'c', '2', '1', '3')\n",
      "('a', 'b', 'c', '2', '3', '1')\n",
      "('a', 'b', 'c', '3', '1', '2')\n",
      "('a', 'b', 'c', '3', '2', '1')\n",
      "('a', 'b', '1', 'c', '2', '3')\n",
      "('a', 'b', '1', 'c', '3', '2')\n",
      "('a', 'b', '1', '2', 'c', '3')\n",
      "('a', 'b', '1', '2', '3', 'c')\n"
     ]
    }
   ],
   "source": [
    "# Q1: Like a passcode combo, the question is about how many combination for \"abc123\" or ['a', 'b','c',1,2,3]\n",
    "\n",
    "from itertools import permutations  \n",
    "  \n",
    "n = \"abc123\"\n",
    "\n",
    "# no length entered so default length taken as 6(the length of string GeEK) \n",
    "p = list(permutations(n))\n",
    "  \n",
    "# The number of different ways are the length of list which contains all possible permutations\n",
    "print(len(p))\n",
    "\n",
    "# Print out the first 10 in the list \n",
    "for i in range(0,10):\n",
    "    print(p[i])"
   ]
  },
  {
   "cell_type": "code",
   "execution_count": 84,
   "metadata": {},
   "outputs": [
    {
     "name": "stdout",
     "output_type": "stream",
     "text": [
      "12\n",
      "6\n"
     ]
    }
   ],
   "source": [
    "# Q2 is asking how many different ways to take two letters from \"abcd\"\n",
    "# if the order matters, permutations should be used\n",
    "\n",
    "n = 'abcd'\n",
    "\n",
    "p = list(permutations(n,2))\n",
    "\n",
    "print(len(p))\n",
    "\n",
    "# if the order doesn't matters, combinations should be used\n",
    "\n",
    "from itertools import combinations\n",
    "\n",
    "n = 'abcd'\n",
    "\n",
    "p = list(combinations(n,2))\n",
    "\n",
    "print(len(p))"
   ]
  },
  {
   "cell_type": "markdown",
   "metadata": {},
   "source": [
    "Save this file as profiles.json inside of your exercises directory. Use the load function from the json module to open this file, it will produce a list of dictionaries. Using this data, write some code that calculates and outputs the following information"
   ]
  },
  {
   "cell_type": "code",
   "execution_count": 46,
   "metadata": {
    "scrolled": false
   },
   "outputs": [
    {
     "data": {
      "text/plain": [
       "{'_id': '54e23c3eaffbb506aa15ec1c',\n",
       " 'index': 5,\n",
       " 'guid': 'fc3e04d1-44c2-449e-891a-d4f8053d14a4',\n",
       " 'isActive': True,\n",
       " 'balance': '$1,694.42',\n",
       " 'picture': 'http://placehold.it/32x32',\n",
       " 'age': 30,\n",
       " 'eyeColor': 'brown',\n",
       " 'name': 'Camacho Cortez',\n",
       " 'gender': 'male',\n",
       " 'company': 'EARTHWAX',\n",
       " 'email': 'camachocortez@earthwax.com',\n",
       " 'phone': '+1 (869) 528-2019',\n",
       " 'address': '101 Haring Street, Nicut, Louisiana, 1473',\n",
       " 'about': 'Qui ad commodo elit voluptate cupidatat exercitation amet ea laborum sunt aliquip nisi irure. Veniam voluptate eiusmod sint aliquip ea. Voluptate voluptate Lorem nulla laborum eiusmod occaecat et nostrud sint in cillum reprehenderit magna nulla. Lorem id fugiat laborum qui mollit amet. Culpa officia ipsum nisi culpa in. Fugiat quis eu cupidatat non culpa in ea velit pariatur non in excepteur.\\r\\n',\n",
       " 'registered': '2014-03-17T12:04:00 +05:00',\n",
       " 'latitude': 74.434627,\n",
       " 'longitude': 69.527088,\n",
       " 'tags': ['et', 'sit', 'in', 'id', 'ullamco', 'elit', 'laborum'],\n",
       " 'friends': [{'id': 0, 'name': 'Sexton Tillman'},\n",
       "  {'id': 1, 'name': 'Boone Steele'},\n",
       "  {'id': 2, 'name': 'Elvia Ward'}],\n",
       " 'greeting': 'Hello, Camacho Cortez! You have 19 unread messages.',\n",
       " 'favoriteFruit': 'apple'}"
      ]
     },
     "execution_count": 46,
     "metadata": {},
     "output_type": "execute_result"
    }
   ],
   "source": [
    "from json import load\n",
    "\n",
    "with open('profiles.json') as users:\n",
    "    data = load(users)\n",
    "\n",
    "# valid the profiles.json is a list of dicts\n",
    "data[5]"
   ]
  },
  {
   "cell_type": "code",
   "execution_count": 85,
   "metadata": {},
   "outputs": [
    {
     "name": "stdout",
     "output_type": "stream",
     "text": [
      "19\n"
     ]
    }
   ],
   "source": [
    "# Total number of users\n",
    "\n",
    "total_number = len(data)\n",
    "print(total_number)"
   ]
  },
  {
   "cell_type": "code",
   "execution_count": 20,
   "metadata": {},
   "outputs": [
    {
     "name": "stdout",
     "output_type": "stream",
     "text": [
      "9\n"
     ]
    }
   ],
   "source": [
    "# Number of active users\n",
    "\n",
    "active_id = [i[\"_id\"] for i in data if i[\"isActive\"] == True]\n",
    "number_of_active = len(active_id)\n",
    "print(number_of_active)"
   ]
  },
  {
   "cell_type": "code",
   "execution_count": 21,
   "metadata": {},
   "outputs": [
    {
     "name": "stdout",
     "output_type": "stream",
     "text": [
      "10\n"
     ]
    }
   ],
   "source": [
    "# Number of inactive users\n",
    "\n",
    "inactive_id = [i[\"_id\"] for i in data if i[\"isActive\"] == False]\n",
    "number_of_inactive = len(inactive_id)\n",
    "print(number_of_inactive)"
   ]
  },
  {
   "cell_type": "code",
   "execution_count": 31,
   "metadata": {},
   "outputs": [
    {
     "name": "stdout",
     "output_type": "stream",
     "text": [
      "52667.02\n"
     ]
    }
   ],
   "source": [
    "# Grand total of balances for all users\n",
    "\n",
    "balances_str = [i[\"balance\"] for i in data]\n",
    "balances_float = []\n",
    "\n",
    "for balance in balances:\n",
    "    balance = balance.replace(\"$\",\"\")\n",
    "    balance = balance.replace(\",\",\"\")\n",
    "    balance = float(balance)\n",
    "    balances_float.append(balance)\n",
    "\n",
    "grand_total = sum(balances_float)\n",
    "print(grand_total)"
   ]
  },
  {
   "cell_type": "code",
   "execution_count": 32,
   "metadata": {},
   "outputs": [
    {
     "name": "stdout",
     "output_type": "stream",
     "text": [
      "2771.9484210526316\n"
     ]
    }
   ],
   "source": [
    "# Average balance per user\n",
    "\n",
    "from statistics import mean\n",
    "\n",
    "avg_balance = mean(balances_float)\n",
    "print(avg_balance)"
   ]
  },
  {
   "cell_type": "code",
   "execution_count": 39,
   "metadata": {},
   "outputs": [
    {
     "name": "stdout",
     "output_type": "stream",
     "text": [
      "1\n",
      "Avery Flynn\n"
     ]
    }
   ],
   "source": [
    "# User with the lowest balance\n",
    "\n",
    "lowest_balance = min(balances_float)\n",
    "number_of_lowest = balances_float.count(lowest_balance)\n",
    "print(number_of_lowest)\n",
    "user_position = balances_float.index(lowest_balance)\n",
    "user_name = data[user_position][\"name\"]\n",
    "print(user_name)"
   ]
  },
  {
   "cell_type": "code",
   "execution_count": 43,
   "metadata": {},
   "outputs": [
    {
     "name": "stdout",
     "output_type": "stream",
     "text": [
      "1\n",
      "Fay Hammond\n"
     ]
    }
   ],
   "source": [
    "# User with the highest balance\n",
    "\n",
    "hightest_balance = max(balances_float)\n",
    "number_of_highest = balances_float.count(hightest_balance)\n",
    "print(number_of_lowest)\n",
    "user_position = balances_float.index(hightest_balance)\n",
    "user_name = data[user_position][\"name\"]\n",
    "print(user_name)"
   ]
  },
  {
   "cell_type": "code",
   "execution_count": 74,
   "metadata": {},
   "outputs": [
    {
     "name": "stdout",
     "output_type": "stream",
     "text": [
      "{'banana', 'strawberry', 'apple'}\n",
      "[{'favorite_fruit': 'apple', 'frequency': 4}, {'favorite_fruit': 'banana', 'frequency': 6}, {'favorite_fruit': 'strawberry', 'frequency': 9}]\n",
      "Least common favorite fruit: apple\n",
      "Most common favorite fruit: strawberry\n"
     ]
    }
   ],
   "source": [
    "# Most and lesst common favorite fruit\n",
    "\n",
    "favorite_fruit = [i[\"favoriteFruit\"] for i in data]\n",
    "types_of_favorite_fruit = set(favorite_fruit)\n",
    "print(types_of_favorite_fruit) # {'apple', 'banana', 'strawberry'}\n",
    "\n",
    "f_table = [\n",
    "    {\"favorite_fruit\": \"apple\", \"frequency\": 0},\n",
    "    {\"favorite_fruit\": \"banana\",\"frequency\": 0},\n",
    "    {\"favorite_fruit\": \"strawberry\",\"frequency\": 0}\n",
    "]\n",
    "\n",
    "for fruit in favorite_fruit:\n",
    "    if fruit == \"apple\":\n",
    "        f_table[0][\"frequency\"] += 1\n",
    "    if fruit == \"banana\":\n",
    "        f_table[1][\"frequency\"] += 1\n",
    "    if fruit == \"strawberry\":\n",
    "        f_table[2][\"frequency\"] += 1\n",
    "        \n",
    "f_table = sorted(f_table, key = lambda i: i[\"frequency\"])\n",
    "\n",
    "print(f_table)\n",
    "\n",
    "print(\"Least common favorite fruit:\", f_table[0][\"favorite_fruit\"])\n",
    "print(\"Most common favorite fruit:\", f_table[2][\"favorite_fruit\"])"
   ]
  },
  {
   "cell_type": "code",
   "execution_count": 81,
   "metadata": {},
   "outputs": [
    {
     "name": "stdout",
     "output_type": "stream",
     "text": [
      "210\n"
     ]
    }
   ],
   "source": [
    "# Total number of unread messages for all users\n",
    "\n",
    "# The number of unread messages is within the greeting message. \n",
    "list_of_greeting = [i[\"greeting\"] for i in data]\n",
    "\n",
    "# Extract number from the string and combine them together\n",
    "unread_messages = []\n",
    "for greeting in list_of_greeting:\n",
    "    unread_messages += [int(i) for i in greeting.split() if i.isdigit()]\n",
    "\n",
    "total_number_of_unread = sum(unread_messages)\n",
    "print(total_number_of_unread)"
   ]
  }
 ],
 "metadata": {
  "kernelspec": {
   "display_name": "Python 3",
   "language": "python",
   "name": "python3"
  },
  "language_info": {
   "codemirror_mode": {
    "name": "ipython",
    "version": 3
   },
   "file_extension": ".py",
   "mimetype": "text/x-python",
   "name": "python",
   "nbconvert_exporter": "python",
   "pygments_lexer": "ipython3",
   "version": "3.7.6"
  }
 },
 "nbformat": 4,
 "nbformat_minor": 4
}
