{
 "cells": [
  {
   "cell_type": "markdown",
   "metadata": {},
   "source": [
    "1. Conditional Basics\n",
    "    a. prompt the user for a day of the week, print out whether the day is Monday or not"
   ]
  },
  {
   "cell_type": "code",
   "execution_count": 73,
   "metadata": {},
   "outputs": [
    {
     "name": "stdout",
     "output_type": "stream",
     "text": [
      "Please type a day of the week: monday\n",
      "It is Monday\n"
     ]
    }
   ],
   "source": [
    "input_day = input(\"Please type a day of the week: \")\n",
    "if input_day.capitalize() == \"Monday\":\n",
    "    print(\"It is Monday\")\n",
    "else:\n",
    "    print(\"It is not Monday\")"
   ]
  },
  {
   "cell_type": "code",
   "execution_count": 75,
   "metadata": {},
   "outputs": [
    {
     "name": "stdout",
     "output_type": "stream",
     "text": [
      "Today is not Monday\n"
     ]
    }
   ],
   "source": [
    "# How to determine what day it is today?\n",
    "\n",
    "import datetime\n",
    "datetime.datetime.today()\n",
    "datetime.datetime.today().weekday()\n",
    "\n",
    "if datetime.datetime.today().weekday() == 0:\n",
    "    print(\"Today is Monday\")\n",
    "else:\n",
    "    print(\"Today is not Monday\")"
   ]
  },
  {
   "cell_type": "code",
   "execution_count": 76,
   "metadata": {},
   "outputs": [
    {
     "name": "stdout",
     "output_type": "stream",
     "text": [
      "Please type a weekday:tuesday\n",
      "It is a Weekday\n"
     ]
    }
   ],
   "source": [
    "# b. prompt the user for a day of the week, print out whether the day is a weekday or a weekend\n",
    "\n",
    "user_day = input(\"Please type a weekday:\")\n",
    "weekday = [\"Monday\", \"Tuesday\", \"Wednesday\", \"Thursday\", \"Friday\"]\n",
    "weekend = [\"Saturday\", \"Sunday\"]\n",
    "\n",
    "if user_day.capitalize() in weekday:\n",
    "    print(\"It is a Weekday\")\n",
    "elif user_day.capitalize() in weekend:\n",
    "    print(\"It is a Weekend\")\n",
    "else:\n",
    "    print(\"Invalid input\")"
   ]
  },
  {
   "cell_type": "code",
   "execution_count": 19,
   "metadata": {},
   "outputs": [
    {
     "name": "stdout",
     "output_type": "stream",
     "text": [
      "400\n"
     ]
    }
   ],
   "source": [
    "# c. create variables and make up values for\n",
    "    # the number of hours worked in one week\n",
    "    # the hourly rate\n",
    "    # how much the week's paycheck will be\n",
    "# write the python code that calculates the weekly paycheck. \n",
    "# You get paid time and a half if you work more than 40 hours\n",
    "\n",
    "work_hours = 20\n",
    "hourly_rate = 20\n",
    "\n",
    "if 0 <= work_hours <= 40:\n",
    "    week_pay = work_hours * hourly_rate\n",
    "elif 40 < work_hours <= 7*24:\n",
    "    week_pay = 40 * hourly_rate + (work_hours - 40) * hourly_rate * 1.5\n",
    "elif work_hours > 7*24:\n",
    "    week_pay = \"Are you from Mars?\"\n",
    "else:\n",
    "    week_pay = \"You'd better start work\"\n",
    "\n",
    "print(week_pay)"
   ]
  },
  {
   "cell_type": "code",
   "execution_count": 24,
   "metadata": {},
   "outputs": [
    {
     "name": "stdout",
     "output_type": "stream",
     "text": [
      "5\n",
      "6\n",
      "7\n",
      "8\n",
      "9\n",
      "10\n",
      "11\n",
      "12\n",
      "13\n",
      "14\n",
      "15\n"
     ]
    }
   ],
   "source": [
    "# 2. Loop Basics \n",
    "# a. While\n",
    "    # Create an integer variable i with a value of 5.\n",
    "    # Create a while loop that runs so long as i is less than or equal to 15\n",
    "    # Each loop iteration, output the current value of i, then increment i by one.\n",
    "\n",
    "i = 5\n",
    "while i <= 15:\n",
    "    print(i)\n",
    "    i += 1"
   ]
  },
  {
   "cell_type": "code",
   "execution_count": 25,
   "metadata": {},
   "outputs": [
    {
     "name": "stdout",
     "output_type": "stream",
     "text": [
      "0\n",
      "2\n",
      "4\n",
      "6\n",
      "8\n",
      "10\n",
      "12\n",
      "14\n",
      "16\n",
      "18\n",
      "20\n",
      "22\n",
      "24\n",
      "26\n",
      "28\n",
      "30\n",
      "32\n",
      "34\n",
      "36\n",
      "38\n",
      "40\n",
      "42\n",
      "44\n",
      "46\n",
      "48\n",
      "50\n",
      "52\n",
      "54\n",
      "56\n",
      "58\n",
      "60\n",
      "62\n",
      "64\n",
      "66\n",
      "68\n",
      "70\n",
      "72\n",
      "74\n",
      "76\n",
      "78\n",
      "80\n",
      "82\n",
      "84\n",
      "86\n",
      "88\n",
      "90\n",
      "92\n",
      "94\n",
      "96\n",
      "98\n",
      "100\n"
     ]
    }
   ],
   "source": [
    "# Create a while loop that will count by 2's starting with 0 and ending at 100. \n",
    "# Follow each number with a new line.\n",
    "\n",
    "i = 0\n",
    "while i <= 100:\n",
    "    print(i)\n",
    "    i += 2"
   ]
  },
  {
   "cell_type": "code",
   "execution_count": 31,
   "metadata": {},
   "outputs": [
    {
     "name": "stdout",
     "output_type": "stream",
     "text": [
      "100\n",
      "95\n",
      "90\n",
      "85\n",
      "80\n",
      "75\n",
      "70\n",
      "65\n",
      "60\n",
      "55\n",
      "50\n",
      "45\n",
      "40\n",
      "35\n",
      "30\n",
      "25\n",
      "20\n",
      "15\n",
      "10\n",
      "5\n",
      "0\n",
      "-5\n",
      "-10\n"
     ]
    }
   ],
   "source": [
    "# Alter your loop to count backwards by 5's from 100 to -10.\n",
    "\n",
    "i = 100\n",
    "while i >= -10:\n",
    "    print(i)\n",
    "    i -= 5    "
   ]
  },
  {
   "cell_type": "code",
   "execution_count": 39,
   "metadata": {},
   "outputs": [
    {
     "name": "stdout",
     "output_type": "stream",
     "text": [
      "2\n",
      "4\n",
      "16\n",
      "256\n",
      "65536\n"
     ]
    }
   ],
   "source": [
    "# Create a while loop that starts at 2, and displays the number squared on each line \n",
    "# while the number is less than 1,000,000. Output should equal:\n",
    "\n",
    "i = 2\n",
    "while i <= 1000000:\n",
    "    print(i)\n",
    "    i = i * i"
   ]
  },
  {
   "cell_type": "code",
   "execution_count": 41,
   "metadata": {},
   "outputs": [
    {
     "name": "stdout",
     "output_type": "stream",
     "text": [
      "100\n",
      "95\n",
      "90\n",
      "85\n",
      "80\n",
      "75\n",
      "70\n",
      "65\n",
      "60\n",
      "55\n",
      "50\n",
      "45\n",
      "40\n",
      "35\n",
      "30\n",
      "25\n",
      "20\n",
      "15\n",
      "10\n",
      "5\n"
     ]
    }
   ],
   "source": [
    "# Write a loop that uses print to create the output shown below.\n",
    "\n",
    "i = 100\n",
    "while i >= 5:\n",
    "    print(i)\n",
    "    i -= 5"
   ]
  },
  {
   "cell_type": "code",
   "execution_count": 19,
   "metadata": {},
   "outputs": [
    {
     "name": "stdout",
     "output_type": "stream",
     "text": [
      "[100, 95, 90, 85, 80, 75, 70, 65, 60, 55, 50, 45, 40, 35, 30, 25, 20, 15, 10, 5]\n"
     ]
    }
   ],
   "source": [
    "# It is very convenient to generate arithmetic and geometric progression\n",
    "i = 100\n",
    "n = []\n",
    "while i >= 5:\n",
    "    n.append(i)\n",
    "    i -= 5\n",
    "print(n)"
   ]
  },
  {
   "cell_type": "code",
   "execution_count": 17,
   "metadata": {},
   "outputs": [
    {
     "name": "stdout",
     "output_type": "stream",
     "text": [
      "Type in a number: 7.5\n"
     ]
    },
    {
     "ename": "ValueError",
     "evalue": "invalid literal for int() with base 10: '7.5'",
     "output_type": "error",
     "traceback": [
      "\u001b[0;31m---------------------------------------------------------------------------\u001b[0m",
      "\u001b[0;31mValueError\u001b[0m                                Traceback (most recent call last)",
      "\u001b[0;32m<ipython-input-17-0b55610208df>\u001b[0m in \u001b[0;36m<module>\u001b[0;34m\u001b[0m\n\u001b[1;32m      2\u001b[0m \u001b[0;31m# then shows a multiplication table up through 10 for that number.\u001b[0m\u001b[0;34m\u001b[0m\u001b[0;34m\u001b[0m\u001b[0;34m\u001b[0m\u001b[0m\n\u001b[1;32m      3\u001b[0m \u001b[0;34m\u001b[0m\u001b[0m\n\u001b[0;32m----> 4\u001b[0;31m \u001b[0mnum\u001b[0m \u001b[0;34m=\u001b[0m \u001b[0mint\u001b[0m\u001b[0;34m(\u001b[0m\u001b[0minput\u001b[0m\u001b[0;34m(\u001b[0m\u001b[0;34m\"Type in a number: \"\u001b[0m\u001b[0;34m)\u001b[0m\u001b[0;34m)\u001b[0m\u001b[0;34m\u001b[0m\u001b[0;34m\u001b[0m\u001b[0m\n\u001b[0m\u001b[1;32m      5\u001b[0m \u001b[0;34m\u001b[0m\u001b[0m\n\u001b[1;32m      6\u001b[0m \u001b[0;32mfor\u001b[0m \u001b[0mi\u001b[0m \u001b[0;32min\u001b[0m \u001b[0mrange\u001b[0m \u001b[0;34m(\u001b[0m\u001b[0;36m1\u001b[0m\u001b[0;34m,\u001b[0m\u001b[0;36m11\u001b[0m\u001b[0;34m)\u001b[0m\u001b[0;34m:\u001b[0m\u001b[0;34m\u001b[0m\u001b[0;34m\u001b[0m\u001b[0m\n",
      "\u001b[0;31mValueError\u001b[0m: invalid literal for int() with base 10: '7.5'"
     ]
    }
   ],
   "source": [
    "# i. Write some code that prompts the user for a number, \n",
    "# then shows a multiplication table up through 10 for that number.\n",
    "\n",
    "num = int(input(\"Type in a : \"))\n",
    "\n",
    "for i in range (1,11):\n",
    "    print(f\"{num} x {i} = {num*i}\")"
   ]
  },
  {
   "cell_type": "code",
   "execution_count": 11,
   "metadata": {},
   "outputs": [
    {
     "name": "stdout",
     "output_type": "stream",
     "text": [
      "1\n",
      "22\n",
      "333\n",
      "4444\n",
      "55555\n",
      "666666\n",
      "7777777\n",
      "88888888\n",
      "999999999\n"
     ]
    }
   ],
   "source": [
    "# ii. Create a for loop that uses print to create the output shown below.\n",
    "# use \"1\"*i to generate \"111...\", then conver it to int\n",
    "\n",
    "for i in range(1,10):\n",
    "    print(int(\"1\"*i)*i)"
   ]
  },
  {
   "cell_type": "markdown",
   "metadata": {},
   "source": [
    "C. break and continue\n",
    "\n",
    "i. Prompt the user for an odd number between 1 and 50. Use a loop and a break statement to continue prompting the user if they enter invalid input. Hint: use the isdigit method on strings so determine this. Use a loop and continue statement to output all the odd numbers between 1 and 50, except for the number the user entered. "
   ]
  },
  {
   "cell_type": "code",
   "execution_count": 7,
   "metadata": {},
   "outputs": [
    {
     "name": "stdout",
     "output_type": "stream",
     "text": [
      "[1, 3, 5, 7, 9, 11, 13, 15, 17, 19, 21, 23, 25, 27, 29, 31, 33, 35, 37, 39, 41, 43, 45, 47, 49]\n"
     ]
    }
   ],
   "source": [
    "# Step 1: use WHILE to create a list of odd number between 1 and 50\n",
    "\n",
    "odd_number = []\n",
    "n = 1\n",
    "while n < 50:\n",
    "    odd_number.append(n)\n",
    "    n += 2\n",
    "print(odd_number) # list is correct"
   ]
  },
  {
   "cell_type": "code",
   "execution_count": null,
   "metadata": {},
   "outputs": [],
   "source": [
    "# Step 2: validate the input (user_input can be any data type: int, float, boolean, list, dict, etc.)\n",
    "\n",
    "user_input = input(\"Enter an odd number between 1 and 50: \")\n",
    "type(user_input) # No matter what the user input, the datatype that INPUT returns is str."
   ]
  },
  {
   "cell_type": "code",
   "execution_count": 40,
   "metadata": {},
   "outputs": [
    {
     "name": "stdout",
     "output_type": "stream",
     "text": [
      "Enter an odd number between 1 and 50: -5\n",
      "Not Valid and 2 times left\n",
      "Enter an odd number between 1 and 50: 30\n",
      "Not Valid and 1 times left\n",
      "Enter an odd number between 1 and 50: 21\n",
      "Valid\n"
     ]
    }
   ],
   "source": [
    "# Limited input vs. Unlimited input\n",
    "\n",
    "# Limited input: the users are given 3 chances to enter the number.\n",
    "\n",
    "user_input = input(\"Enter an odd number between 1 and 50: \")\n",
    "\n",
    "for i in range(0,4):\n",
    "    if i == 3:   # this is 4th time the user trys to input\n",
    "        print(\"Please call xxx-xxx-xxxx to regain the access\")\n",
    "        break\n",
    "    if user_input.isdigit() == False or int(user_input) < 1 or int(user_input) >= 50 or int(user_input)%2 != 1:\n",
    "        print(f\"Not Valid and {2-i} times left\")\n",
    "        user_input = input(\"Enter an odd number between 1 and 50: \")\n",
    "    else:\n",
    "        print(\"Valid\")\n",
    "        break"
   ]
  },
  {
   "cell_type": "code",
   "execution_count": 12,
   "metadata": {},
   "outputs": [
    {
     "name": "stdout",
     "output_type": "stream",
     "text": [
      "Enter an odd number between 1 and 50: d\n",
      "Not Valid\n",
      "Enter an odd number between 1 and 50: 3\n"
     ]
    }
   ],
   "source": [
    "# Unlimited input: \n",
    "\n",
    "user_input = input(\"Enter an odd number between 1 and 50: \")\n",
    "\n",
    "while user_input.isdigit() == False or int(user_input) < 1 or int(user_input) >= 50 or int(user_input)%2 != 1:\n",
    "    print(\"Not Valid\")\n",
    "    user_input = input(\"Enter an odd number between 1 and 50: \")"
   ]
  },
  {
   "cell_type": "code",
   "execution_count": 1,
   "metadata": {},
   "outputs": [
    {
     "name": "stdout",
     "output_type": "stream",
     "text": [
      "Enter an odd number between 1 and 50: 2\n",
      "Not Valid\n",
      "Enter an odd number between 1 and 50: 3\n",
      "Here is an odd number: 1\n",
      "Yikes! Skipping number: 3\n",
      "Here is an odd number: 5\n",
      "Here is an odd number: 7\n",
      "Here is an odd number: 9\n",
      "Here is an odd number: 11\n",
      "Here is an odd number: 13\n",
      "Here is an odd number: 15\n",
      "Here is an odd number: 17\n",
      "Here is an odd number: 19\n",
      "Here is an odd number: 21\n",
      "Here is an odd number: 23\n",
      "Here is an odd number: 25\n",
      "Here is an odd number: 27\n",
      "Here is an odd number: 29\n",
      "Here is an odd number: 31\n",
      "Here is an odd number: 33\n",
      "Here is an odd number: 35\n",
      "Here is an odd number: 37\n",
      "Here is an odd number: 39\n",
      "Here is an odd number: 41\n",
      "Here is an odd number: 43\n",
      "Here is an odd number: 45\n",
      "Here is an odd number: 47\n",
      "Here is an odd number: 49\n"
     ]
    }
   ],
   "source": [
    "# Step 3: output all odd number between 1 and 50, except the number the user input\n",
    "\n",
    "user_input = input(\"Enter an odd number between 1 and 50: \")\n",
    "\n",
    "odd_number = []\n",
    "n = 1\n",
    "while n < 50:\n",
    "    odd_number.append(n)\n",
    "    n += 2\n",
    "\n",
    "while user_input.isdigit() == False or int(user_input) < 1 or int(user_input) >= 50 or int(user_input)%2 != 1:\n",
    "    print(\"Not Valid\")\n",
    "    user_input = input(\"Enter an odd number between 1 and 50: \")\n",
    "\n",
    "for num in odd_number:\n",
    "    if num == int(user_input):\n",
    "        print(f\"Yikes! Skipping number: {num}\")\n",
    "#         continue\n",
    "    else:\n",
    "        print(f\"Here is an odd number: {num}\")"
   ]
  },
  {
   "cell_type": "markdown",
   "metadata": {},
   "source": [
    "d. The INPUT function can be used to prompt for input and use that input in your python code. Prompt the user to enter a positive number and write a loop that counts from 0 to that number. (Hints: first make sure that the value the user entered is a valid number, also note that the INPUT function returns a string, so you'll need to convert this to a numeric type."
   ]
  },
  {
   "cell_type": "code",
   "execution_count": 30,
   "metadata": {},
   "outputs": [
    {
     "data": {
      "text/plain": [
       "False"
      ]
     },
     "execution_count": 30,
     "metadata": {},
     "output_type": "execute_result"
    }
   ],
   "source": [
    "\"a\".isdigit()"
   ]
  },
  {
   "cell_type": "code",
   "execution_count": 38,
   "metadata": {},
   "outputs": [
    {
     "data": {
      "text/plain": [
       "False"
      ]
     },
     "execution_count": 38,
     "metadata": {},
     "output_type": "execute_result"
    }
   ],
   "source": [
    "\"-5\".isdigit()\n",
    "# What if I do need the input to be negative"
   ]
  },
  {
   "cell_type": "code",
   "execution_count": 42,
   "metadata": {},
   "outputs": [
    {
     "data": {
      "text/plain": [
       "False"
      ]
     },
     "execution_count": 42,
     "metadata": {},
     "output_type": "execute_result"
    }
   ],
   "source": [
    "\"4.5\".isdigit()"
   ]
  },
  {
   "cell_type": "code",
   "execution_count": 37,
   "metadata": {},
   "outputs": [
    {
     "name": "stdout",
     "output_type": "stream",
     "text": [
      "Please type in an integer: 2\n",
      "[0, 1, 2]\n"
     ]
    }
   ],
   "source": [
    "input_int = input(\"Please type in an positive integer: \")\n",
    "\n",
    "while input_int.isdigit() == False:\n",
    "    input_int = input(\"Please type in an integer: \")\n",
    "\n",
    "num_count = [n for n in range(0,int(input_int)+1)]\n",
    "print(num_count)\n",
    "\n",
    "# How about positive float, like 4.5? "
   ]
  },
  {
   "cell_type": "markdown",
   "metadata": {},
   "source": [
    "e. Write a program that prompts the user for a positive integer. Next write a loop that prints out the numbers from the number the user entered down to 1."
   ]
  },
  {
   "cell_type": "code",
   "execution_count": 51,
   "metadata": {},
   "outputs": [
    {
     "name": "stdout",
     "output_type": "stream",
     "text": [
      "Please type in an positive integer: 5.5\n",
      "Please type in an integer: -10\n",
      "Please type in an integer: 12\n",
      "[12, 11, 10, 9, 8, 7, 6, 5, 4, 3, 2, 1]\n"
     ]
    }
   ],
   "source": [
    "input_int = input(\"Please type in an positive integer: \")\n",
    "\n",
    "while input_int.isdigit() == False:\n",
    "    input_int = input(\"Please type in an integer: \")\n",
    "\n",
    "num_count = [n for n in range(1,int(input_int)+1)]\n",
    "num_count.reverse()\n",
    "print(num_count)"
   ]
  },
  {
   "cell_type": "markdown",
   "metadata": {},
   "source": [
    "3. Fizzbuzz\n",
    "One of the most common interview questions for entry-level programmers is the FizzBuzz test. Developed by Imran Ghory, the test is designed to test basic looping and conditional logic skills."
   ]
  },
  {
   "cell_type": "code",
   "execution_count": 53,
   "metadata": {},
   "outputs": [
    {
     "name": "stdout",
     "output_type": "stream",
     "text": [
      "[1, 2, 3, 4, 5, 6, 7, 8, 9, 10, 11, 12, 13, 14, 15, 16, 17, 18, 19, 20, 21, 22, 23, 24, 25, 26, 27, 28, 29, 30, 31, 32, 33, 34, 35, 36, 37, 38, 39, 40, 41, 42, 43, 44, 45, 46, 47, 48, 49, 50, 51, 52, 53, 54, 55, 56, 57, 58, 59, 60, 61, 62, 63, 64, 65, 66, 67, 68, 69, 70, 71, 72, 73, 74, 75, 76, 77, 78, 79, 80, 81, 82, 83, 84, 85, 86, 87, 88, 89, 90, 91, 92, 93, 94, 95, 96, 97, 98, 99, 100]\n"
     ]
    }
   ],
   "source": [
    "# Write a program that prints the numbers from 1 to 100.\n",
    "\n",
    "num = []\n",
    "for i in range(1, 101):\n",
    "    num.append(i)\n",
    "print(num)\n",
    "\n",
    "# You can also use list comprehension"
   ]
  },
  {
   "cell_type": "code",
   "execution_count": 57,
   "metadata": {},
   "outputs": [
    {
     "name": "stdout",
     "output_type": "stream",
     "text": [
      "Please tyep in a number: 99\n",
      "Fizz\n"
     ]
    }
   ],
   "source": [
    "# For multiples of three print \"Fizz\" instead of the number\n",
    "\n",
    "user_input = input(\"Please tyep in a number: \")\n",
    "\n",
    "if user_input.isdigit() and (int(user_input)%3 == 0):\n",
    "    print(\"Fizz\")\n",
    "else:\n",
    "    print(\"invalid\")    "
   ]
  },
  {
   "cell_type": "code",
   "execution_count": 59,
   "metadata": {},
   "outputs": [
    {
     "name": "stdout",
     "output_type": "stream",
     "text": [
      "Please tyep in a number: 70\n",
      "Buzz\n"
     ]
    }
   ],
   "source": [
    "# For the multiples of five print \"Buzz\".\n",
    "user_input = input(\"Please tyep in a number: \")\n",
    "\n",
    "if user_input.isdigit() and (int(user_input)%5 == 0):\n",
    "    print(\"Buzz\")\n",
    "else:\n",
    "    print(\"invalid\")    "
   ]
  },
  {
   "cell_type": "code",
   "execution_count": 61,
   "metadata": {},
   "outputs": [
    {
     "name": "stdout",
     "output_type": "stream",
     "text": [
      "Please tyep in a number: 9\n",
      "invalid\n"
     ]
    }
   ],
   "source": [
    "# For numbers which are multiples of both three and five print \"FizzBuzz\".\n",
    "\n",
    "user_input = input(\"Please tyep in a number: \")\n",
    "\n",
    "if user_input.isdigit() and (int(user_input)%3 == 0) and (int(user_input)%5 == 0):\n",
    "    print(\"FizzBuzz\")\n",
    "else:\n",
    "    print(\"invalid\")  "
   ]
  }
 ],
 "metadata": {
  "kernelspec": {
   "display_name": "Python 3",
   "language": "python",
   "name": "python3"
  },
  "language_info": {
   "codemirror_mode": {
    "name": "ipython",
    "version": 3
   },
   "file_extension": ".py",
   "mimetype": "text/x-python",
   "name": "python",
   "nbconvert_exporter": "python",
   "pygments_lexer": "ipython3",
   "version": "3.7.6"
  }
 },
 "nbformat": 4,
 "nbformat_minor": 4
}
