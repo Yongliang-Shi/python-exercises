{
 "cells": [
  {
   "cell_type": "code",
   "execution_count": 1,
   "metadata": {},
   "outputs": [],
   "source": [
    "students = [\n",
    "    {\n",
    "        \"id\": \"100001\",\n",
    "        \"student\": \"Ada Lovelace\",\n",
    "        \"coffee_preference\": \"light\",\n",
    "        \"course\": \"web development\",\n",
    "        \"grades\": [70, 91, 82, 71],\n",
    "        \"pets\": [{\"species\": \"horse\", \"age\": 8}],\n",
    "    },\n",
    "    {\n",
    "        \"id\": \"100002\",\n",
    "        \"student\": \"Thomas Bayes\",\n",
    "        \"coffee_preference\": \"medium\",\n",
    "        \"course\": \"data science\",\n",
    "        \"grades\": [75, 73, 86, 100],\n",
    "        \"pets\": [],\n",
    "    },\n",
    "    {\n",
    "        \"id\": \"100003\",\n",
    "        \"student\": \"Marie Curie\",\n",
    "        \"coffee_preference\": \"light\",\n",
    "        \"course\": \"web development\",\n",
    "        \"grades\": [70, 89, 69, 65],\n",
    "        \"pets\": [{\"species\": \"cat\", \"age\": 0}],\n",
    "    },\n",
    "    {\n",
    "        \"id\": \"100004\",\n",
    "        \"student\": \"Grace Hopper\",\n",
    "        \"coffee_preference\": \"dark\",\n",
    "        \"course\": \"data science\",\n",
    "        \"grades\": [73, 66, 83, 92],\n",
    "        \"pets\": [{\"species\": \"dog\", \"age\": 4}, {\"species\": \"cat\", \"age\": 4}],\n",
    "    },\n",
    "    {\n",
    "        \"id\": \"100005\",\n",
    "        \"student\": \"Alan Turing\",\n",
    "        \"coffee_preference\": \"dark\",\n",
    "        \"course\": \"web development\",\n",
    "        \"grades\": [78, 98, 85, 65],\n",
    "        \"pets\": [\n",
    "            {\"species\": \"horse\", \"age\": 6},\n",
    "            {\"species\": \"horse\", \"age\": 7},\n",
    "            {\"species\": \"dog\", \"age\": 5},\n",
    "        ],\n",
    "    },\n",
    "    {\n",
    "        \"id\": \"100006\",\n",
    "        \"student\": \"Rosalind Franklin\",\n",
    "        \"coffee_preference\": \"dark\",\n",
    "        \"course\": \"data science\",\n",
    "        \"grades\": [76, 70, 96, 81],\n",
    "        \"pets\": [],\n",
    "    },\n",
    "    {\n",
    "        \"id\": \"100007\",\n",
    "        \"student\": \"Elizabeth Blackwell\",\n",
    "        \"coffee_preference\": \"dark\",\n",
    "        \"course\": \"web development\",\n",
    "        \"grades\": [69, 94, 89, 86],\n",
    "        \"pets\": [{\"species\": \"cat\", \"age\": 10}],\n",
    "    },\n",
    "    {\n",
    "        \"id\": \"100008\",\n",
    "        \"student\": \"Rene Descartes\",\n",
    "        \"coffee_preference\": \"medium\",\n",
    "        \"course\": \"data science\",\n",
    "        \"grades\": [87, 79, 90, 99],\n",
    "        \"pets\": [{\"species\": \"cat\", \"age\": 10}, {\"species\": \"cat\", \"age\": 8}],\n",
    "    },\n",
    "    {\n",
    "        \"id\": \"100009\",\n",
    "        \"student\": \"Ahmed Zewail\",\n",
    "        \"coffee_preference\": \"medium\",\n",
    "        \"course\": \"data science\",\n",
    "        \"grades\": [74, 99, 93, 89],\n",
    "        \"pets\": [{\"species\": \"cat\", \"age\": 0}, {\"species\": \"cat\", \"age\": 0}],\n",
    "    },\n",
    "    {\n",
    "        \"id\": \"100010\",\n",
    "        \"student\": \"Chien-Shiung Wu\",\n",
    "        \"coffee_preference\": \"medium\",\n",
    "        \"course\": \"web development\",\n",
    "        \"grades\": [82, 92, 91, 65],\n",
    "        \"pets\": [{\"species\": \"cat\", \"age\": 8}],\n",
    "    },\n",
    "    {\n",
    "        \"id\": \"100011\",\n",
    "        \"student\": \"William Sanford Nye\",\n",
    "        \"coffee_preference\": \"dark\",\n",
    "        \"course\": \"data science\",\n",
    "        \"grades\": [70, 92, 65, 99],\n",
    "        \"pets\": [{\"species\": \"cat\", \"age\": 8}, {\"species\": \"cat\", \"age\": 5}],\n",
    "    },\n",
    "    {\n",
    "        \"id\": \"100012\",\n",
    "        \"student\": \"Carl Sagan\",\n",
    "        \"coffee_preference\": \"medium\",\n",
    "        \"course\": \"data science\",\n",
    "        \"grades\": [100, 86, 91, 87],\n",
    "        \"pets\": [{\"species\": \"cat\", \"age\": 10}],\n",
    "    },\n",
    "    {\n",
    "        \"id\": \"100013\",\n",
    "        \"student\": \"Jane Goodall\",\n",
    "        \"coffee_preference\": \"light\",\n",
    "        \"course\": \"web development\",\n",
    "        \"grades\": [80, 70, 68, 98],\n",
    "        \"pets\": [{\"species\": \"horse\", \"age\": 4}],\n",
    "    },\n",
    "    {\n",
    "        \"id\": \"100014\",\n",
    "        \"student\": \"Richard Feynman\",\n",
    "        \"coffee_preference\": \"medium\",\n",
    "        \"course\": \"web development\",\n",
    "        \"grades\": [73, 99, 86, 98],\n",
    "        \"pets\": [{\"species\": \"dog\", \"age\": 6}],\n",
    "    },\n",
    "]"
   ]
  },
  {
   "cell_type": "code",
   "execution_count": 30,
   "metadata": {},
   "outputs": [
    {
     "data": {
      "text/plain": [
       "14"
      ]
     },
     "execution_count": 30,
     "metadata": {},
     "output_type": "execute_result"
    }
   ],
   "source": [
    "# 1. How many students are there?\n",
    "len(students)"
   ]
  },
  {
   "cell_type": "code",
   "execution_count": 18,
   "metadata": {},
   "outputs": [
    {
     "name": "stdout",
     "output_type": "stream",
     "text": [
      "3\n"
     ]
    },
    {
     "data": {
      "text/plain": [
       "'light: 3; medium: 6; dark: 5'"
      ]
     },
     "execution_count": 18,
     "metadata": {},
     "output_type": "execute_result"
    }
   ],
   "source": [
    "# 2. How many students prefer light coffee? For each type of coffee roast?\n",
    "\n",
    "def light_coffee(x):\n",
    "    n = 0\n",
    "    for i in range(0,14):\n",
    "        if x[i]['coffee_preference'] == 'light':\n",
    "            n = n + 1\n",
    "    return n\n",
    "    \n",
    "print(light_coffee(students))\n",
    "\n",
    "def coffee_type(x):\n",
    "    a = 0\n",
    "    b = 0\n",
    "    c = 0\n",
    "    for i in range(0,14):\n",
    "        if x[i]['coffee_preference'] == 'light':\n",
    "            a = a + 1\n",
    "        if x[i]['coffee_preference'] == 'medium':\n",
    "            b = b + 1\n",
    "        if x[i]['coffee_preference'] == 'dark':\n",
    "            c = c + 1\n",
    "    return f\"light: {a}; medium: {b}; dark: {c}\"\n",
    "\n",
    "coffee_type(students)"
   ]
  },
  {
   "cell_type": "code",
   "execution_count": null,
   "metadata": {},
   "outputs": [],
   "source": [
    "# 3. How many types of each pet are there?\n",
    "# Breakdown questions\n",
    "\n",
    "# # access the pet type info\n",
    "# print (students[0]['pets'][0]['species'])\n",
    "\n",
    "# # pets is a list of dicts and it can be empty\n",
    "# print(len(students[0]['pets']))\n",
    "# print(len(students[1]['pets']))\n",
    "# print(len(students[4]['pets']))\n",
    "\n",
    "# # find how many unique pets type the students have\n",
    "# # strategy and test:\n",
    "# # 1. put each student's pets species into a list\n",
    "\n",
    "# student_1 = [(students[0]['pets'][0]['species'])]\n",
    "# print(student_1)\n",
    "# student_8 = [(students[4]['pets'][n]['species'])for n in range (0,3)]\n",
    "# print(student_8)\n",
    "\n",
    "# # 2. then combind the list and remove duplicates by set()\n",
    "\n",
    "# print(student_1 + student_8)\n",
    "# student_1_and_student_8 = (set(student_1 + student_8))\n",
    "# print(student_1_and_student_8)\n",
    "\n",
    "# # 3. cout the set by len()\n",
    "# len(student_1_and_student_8)"
   ]
  },
  {
   "cell_type": "code",
   "execution_count": 53,
   "metadata": {},
   "outputs": [
    {
     "data": {
      "text/plain": [
       "3"
      ]
     },
     "execution_count": 53,
     "metadata": {},
     "output_type": "execute_result"
    }
   ],
   "source": [
    "# Since my strategy is working, so let's put them together\n",
    "\n",
    "def pets_type(x):\n",
    "    n = []\n",
    "    for i in range (0,13):\n",
    "        a = len(students[i]['pets'])\n",
    "        if a == 0:\n",
    "            n = n\n",
    "        if a != 0:\n",
    "            n = n + [(students[i]['pets'][n]['species'])for n in range (0,a)]\n",
    "    return len(set(n))\n",
    "\n",
    "pets_type(students)"
   ]
  },
  {
   "cell_type": "code",
   "execution_count": 14,
   "metadata": {},
   "outputs": [
    {
     "name": "stdout",
     "output_type": "stream",
     "text": [
      "Student 1 grade: total 4\n",
      "Student 2 grade: total 4\n",
      "Student 3 grade: total 4\n",
      "Student 4 grade: total 4\n",
      "Student 5 grade: total 4\n",
      "Student 6 grade: total 4\n",
      "Student 7 grade: total 4\n",
      "Student 8 grade: total 4\n",
      "Student 9 grade: total 4\n",
      "Student 10 grade: total 4\n",
      "Student 11 grade: total 4\n",
      "Student 12 grade: total 4\n",
      "Student 13 grade: total 4\n"
     ]
    }
   ],
   "source": [
    "# Q4: find how many grades the first student has\n",
    "len(students[0]['grades'])\n",
    "# use for loop to find the rest and put them in an empty list\n",
    "\n",
    "def output(y):\n",
    "    for i in range(0,13):\n",
    "        print(f\"Student {i+1} grade: total {y[i]}\")\n",
    "    \n",
    "def number_of_grades(x):\n",
    "    n = []\n",
    "    for i in range (0, 13):\n",
    "        n.append(len(students[i]['grades'])) \n",
    "    return output(n)\n",
    "\n",
    "number_of_grades(students)\n",
    "\n",
    "# Yes, they have all the same grades"
   ]
  },
  {
   "cell_type": "code",
   "execution_count": 42,
   "metadata": {},
   "outputs": [
    {
     "name": "stdout",
     "output_type": "stream",
     "text": [
      "Student 1 avg. grade: 78.5\n",
      "Student 2 avg. grade: 83.5\n",
      "Student 3 avg. grade: 73.25\n",
      "Student 4 avg. grade: 78.5\n",
      "Student 5 avg. grade: 81.5\n",
      "Student 6 avg. grade: 80.75\n",
      "Student 7 avg. grade: 84.5\n",
      "Student 8 avg. grade: 88.75\n",
      "Student 9 avg. grade: 88.75\n",
      "Student 10 avg. grade: 82.5\n",
      "Student 11 avg. grade: 81.5\n",
      "Student 12 avg. grade: 91\n",
      "Student 13 avg. grade: 79\n"
     ]
    }
   ],
   "source": [
    "# Q5: What is each student's grade average?\n",
    "\n",
    "# student's grade is a list so use mean()\n",
    "mean(students[0][\"grades\"])\n",
    "\n",
    "# use FOR LOOP to print out every student's mean grade:\n",
    "\n",
    "from statistics import mean\n",
    "\n",
    "def output(y):\n",
    "    for i in range(0,13):\n",
    "        print(f\"Student {i+1} avg. grade: {y[i]}\")\n",
    "    \n",
    "def mean_grade(x):\n",
    "    n = []\n",
    "    for i in range (0, 13):\n",
    "        n.append(mean(students[i][\"grades\"])) \n",
    "    return output(n)\n",
    "        \n",
    "mean_grade(students)"
   ]
  },
  {
   "cell_type": "code",
   "execution_count": 48,
   "metadata": {},
   "outputs": [
    {
     "name": "stdout",
     "output_type": "stream",
     "text": [
      "Student 0 avg. grade: 78.5\n",
      "Student 1 avg. grade: 83.5\n",
      "Student 2 avg. grade: 73.25\n",
      "Student 3 avg. grade: 78.5\n",
      "Student 4 avg. grade: 81.5\n",
      "Student 5 avg. grade: 80.75\n",
      "Student 6 avg. grade: 84.5\n",
      "Student 7 avg. grade: 88.75\n",
      "Student 8 avg. grade: 88.75\n",
      "Student 9 avg. grade: 82.5\n",
      "Student 10 avg. grade: 81.5\n",
      "Student 11 avg. grade: 91\n",
      "Student 12 avg. grade: 79\n"
     ]
    }
   ],
   "source": [
    "# A simple way instead for Q5: \n",
    "\n",
    "def mean_grade(x):\n",
    "    for i in range (0, 13):\n",
    "        print(f\"Student {i} avg. grade:\", mean(students[i][\"grades\"]))\n",
    "\n",
    "mean_grade(students)"
   ]
  },
  {
   "cell_type": "code",
   "execution_count": 50,
   "metadata": {},
   "outputs": [
    {
     "name": "stdout",
     "output_type": "stream",
     "text": [
      "Student 0 pets number: 1\n",
      "Student 1 pets number: 0\n",
      "Student 2 pets number: 1\n",
      "Student 3 pets number: 2\n",
      "Student 4 pets number: 3\n",
      "Student 5 pets number: 0\n",
      "Student 6 pets number: 1\n",
      "Student 7 pets number: 2\n",
      "Student 8 pets number: 2\n",
      "Student 9 pets number: 1\n",
      "Student 10 pets number: 2\n",
      "Student 11 pets number: 1\n",
      "Student 12 pets number: 1\n"
     ]
    }
   ],
   "source": [
    "# Q6: How many pets does each student have?\n",
    "# similar stragegy for the grade question\n",
    "\n",
    "def pets_number(x):\n",
    "    for i in range (0, 13):\n",
    "        print(f\"Student {i} pets number:\", len(students[i][\"pets\"]))\n",
    "\n",
    "pets_number(students)"
   ]
  },
  {
   "cell_type": "code",
   "execution_count": 52,
   "metadata": {},
   "outputs": [
    {
     "data": {
      "text/plain": [
       "'web development:7 students; data science: 7 students'"
      ]
     },
     "execution_count": 52,
     "metadata": {},
     "output_type": "execute_result"
    }
   ],
   "source": [
    "# Q7: How many students are in web development? data science?\n",
    "# similar to Q2\n",
    "# use FOR LOOP to count\n",
    "\n",
    "def course_sum(x):\n",
    "    n_web = 0\n",
    "    n_data = 0\n",
    "    for i in range(0,14):\n",
    "        if students[i][\"course\"] == \"web development\":\n",
    "            n_web = n_web + 1\n",
    "        if students[i][\"course\"] == \"data science\":\n",
    "            n_data = n_data + 1\n",
    "    return f\"web development:{n_web} students; data science: {n_data} students\"\n",
    "\n",
    "course_sum(students)"
   ]
  }
 ],
 "metadata": {
  "kernelspec": {
   "display_name": "Python 3",
   "language": "python",
   "name": "python3"
  },
  "language_info": {
   "codemirror_mode": {
    "name": "ipython",
    "version": 3
   },
   "file_extension": ".py",
   "mimetype": "text/x-python",
   "name": "python",
   "nbconvert_exporter": "python",
   "pygments_lexer": "ipython3",
   "version": "3.7.6"
  }
 },
 "nbformat": 4,
 "nbformat_minor": 4
}
