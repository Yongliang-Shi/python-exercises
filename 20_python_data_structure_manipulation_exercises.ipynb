{
 "cells": [
  {
   "cell_type": "code",
   "execution_count": 4,
   "metadata": {},
   "outputs": [],
   "source": [
    "students = [\n",
    "    {\n",
    "        \"id\": \"100001\",\n",
    "        \"student\": \"Ada Lovelace\",\n",
    "        \"coffee_preference\": \"light\",\n",
    "        \"course\": \"web development\",\n",
    "        \"grades\": [70, 91, 82, 71],\n",
    "        \"pets\": [{\"species\": \"horse\", \"age\": 8}],\n",
    "    },\n",
    "    {\n",
    "        \"id\": \"100002\",\n",
    "        \"student\": \"Thomas Bayes\",\n",
    "        \"coffee_preference\": \"medium\",\n",
    "        \"course\": \"data science\",\n",
    "        \"grades\": [75, 73, 86, 100],\n",
    "        \"pets\": [],\n",
    "    },\n",
    "    {\n",
    "        \"id\": \"100003\",\n",
    "        \"student\": \"Marie Curie\",\n",
    "        \"coffee_preference\": \"light\",\n",
    "        \"course\": \"web development\",\n",
    "        \"grades\": [70, 89, 69, 65],\n",
    "        \"pets\": [{\"species\": \"cat\", \"age\": 0}],\n",
    "    },\n",
    "    {\n",
    "        \"id\": \"100004\",\n",
    "        \"student\": \"Grace Hopper\",\n",
    "        \"coffee_preference\": \"dark\",\n",
    "        \"course\": \"data science\",\n",
    "        \"grades\": [73, 66, 83, 92],\n",
    "        \"pets\": [{\"species\": \"dog\", \"age\": 4}, {\"species\": \"cat\", \"age\": 4}],\n",
    "    },\n",
    "    {\n",
    "        \"id\": \"100005\",\n",
    "        \"student\": \"Alan Turing\",\n",
    "        \"coffee_preference\": \"dark\",\n",
    "        \"course\": \"web development\",\n",
    "        \"grades\": [78, 98, 85, 65],\n",
    "        \"pets\": [\n",
    "            {\"species\": \"horse\", \"age\": 6},\n",
    "            {\"species\": \"horse\", \"age\": 7},\n",
    "            {\"species\": \"dog\", \"age\": 5},\n",
    "        ],\n",
    "    },\n",
    "    {\n",
    "        \"id\": \"100006\",\n",
    "        \"student\": \"Rosalind Franklin\",\n",
    "        \"coffee_preference\": \"dark\",\n",
    "        \"course\": \"data science\",\n",
    "        \"grades\": [76, 70, 96, 81],\n",
    "        \"pets\": [],\n",
    "    },\n",
    "    {\n",
    "        \"id\": \"100007\",\n",
    "        \"student\": \"Elizabeth Blackwell\",\n",
    "        \"coffee_preference\": \"dark\",\n",
    "        \"course\": \"web development\",\n",
    "        \"grades\": [69, 94, 89, 86],\n",
    "        \"pets\": [{\"species\": \"cat\", \"age\": 10}],\n",
    "    },\n",
    "    {\n",
    "        \"id\": \"100008\",\n",
    "        \"student\": \"Rene Descartes\",\n",
    "        \"coffee_preference\": \"medium\",\n",
    "        \"course\": \"data science\",\n",
    "        \"grades\": [87, 79, 90, 99],\n",
    "        \"pets\": [{\"species\": \"cat\", \"age\": 10}, {\"species\": \"cat\", \"age\": 8}],\n",
    "    },\n",
    "    {\n",
    "        \"id\": \"100009\",\n",
    "        \"student\": \"Ahmed Zewail\",\n",
    "        \"coffee_preference\": \"medium\",\n",
    "        \"course\": \"data science\",\n",
    "        \"grades\": [74, 99, 93, 89],\n",
    "        \"pets\": [{\"species\": \"cat\", \"age\": 0}, {\"species\": \"cat\", \"age\": 0}],\n",
    "    },\n",
    "    {\n",
    "        \"id\": \"100010\",\n",
    "        \"student\": \"Chien-Shiung Wu\",\n",
    "        \"coffee_preference\": \"medium\",\n",
    "        \"course\": \"web development\",\n",
    "        \"grades\": [82, 92, 91, 65],\n",
    "        \"pets\": [{\"species\": \"cat\", \"age\": 8}],\n",
    "    },\n",
    "    {\n",
    "        \"id\": \"100011\",\n",
    "        \"student\": \"William Sanford Nye\",\n",
    "        \"coffee_preference\": \"dark\",\n",
    "        \"course\": \"data science\",\n",
    "        \"grades\": [70, 92, 65, 99],\n",
    "        \"pets\": [{\"species\": \"cat\", \"age\": 8}, {\"species\": \"cat\", \"age\": 5}],\n",
    "    },\n",
    "    {\n",
    "        \"id\": \"100012\",\n",
    "        \"student\": \"Carl Sagan\",\n",
    "        \"coffee_preference\": \"medium\",\n",
    "        \"course\": \"data science\",\n",
    "        \"grades\": [100, 86, 91, 87],\n",
    "        \"pets\": [{\"species\": \"cat\", \"age\": 10}],\n",
    "    },\n",
    "    {\n",
    "        \"id\": \"100013\",\n",
    "        \"student\": \"Jane Goodall\",\n",
    "        \"coffee_preference\": \"light\",\n",
    "        \"course\": \"web development\",\n",
    "        \"grades\": [80, 70, 68, 98],\n",
    "        \"pets\": [{\"species\": \"horse\", \"age\": 4}],\n",
    "    },\n",
    "    {\n",
    "        \"id\": \"100014\",\n",
    "        \"student\": \"Richard Feynman\",\n",
    "        \"coffee_preference\": \"medium\",\n",
    "        \"course\": \"web development\",\n",
    "        \"grades\": [73, 99, 86, 98],\n",
    "        \"pets\": [{\"species\": \"dog\", \"age\": 6}],\n",
    "    },\n",
    "]"
   ]
  },
  {
   "cell_type": "code",
   "execution_count": 30,
   "metadata": {},
   "outputs": [
    {
     "data": {
      "text/plain": [
       "14"
      ]
     },
     "execution_count": 30,
     "metadata": {},
     "output_type": "execute_result"
    }
   ],
   "source": [
    "# 1. How many students are there?\n",
    "len(students)"
   ]
  },
  {
   "cell_type": "code",
   "execution_count": 18,
   "metadata": {},
   "outputs": [
    {
     "name": "stdout",
     "output_type": "stream",
     "text": [
      "3\n"
     ]
    },
    {
     "data": {
      "text/plain": [
       "'light: 3; medium: 6; dark: 5'"
      ]
     },
     "execution_count": 18,
     "metadata": {},
     "output_type": "execute_result"
    }
   ],
   "source": [
    "# 2. How many students prefer light coffee? For each type of coffee roast?\n",
    "\n",
    "def light_coffee(x):\n",
    "    n = 0\n",
    "    for i in range(0,14):\n",
    "        if x[i]['coffee_preference'] == 'light':\n",
    "            n = n + 1\n",
    "    return n\n",
    "    \n",
    "print(light_coffee(students))\n",
    "\n",
    "def coffee_type(x):\n",
    "    a = 0\n",
    "    b = 0\n",
    "    c = 0\n",
    "    for i in range(0,14):\n",
    "        if x[i]['coffee_preference'] == 'light':\n",
    "            a = a + 1\n",
    "        if x[i]['coffee_preference'] == 'medium':\n",
    "            b = b + 1\n",
    "        if x[i]['coffee_preference'] == 'dark':\n",
    "            c = c + 1\n",
    "    return f\"light: {a}; medium: {b}; dark: {c}\"\n",
    "\n",
    "coffee_type(students)"
   ]
  },
  {
   "cell_type": "code",
   "execution_count": null,
   "metadata": {},
   "outputs": [],
   "source": [
    "# 3. How many types of each pet are there?\n",
    "# Breakdown questions\n",
    "\n",
    "# # access the pet type info\n",
    "# print (students[0]['pets'][0]['species'])\n",
    "\n",
    "# # pets is a list of dicts and it can be empty\n",
    "# print(len(students[0]['pets']))\n",
    "# print(len(students[1]['pets']))\n",
    "# print(len(students[4]['pets']))\n",
    "\n",
    "# # find how many unique pets type the students have\n",
    "# # strategy and test:\n",
    "# # 1. put each student's pets species into a list\n",
    "\n",
    "# student_1 = [(students[0]['pets'][0]['species'])]\n",
    "# print(student_1)\n",
    "# student_8 = [(students[4]['pets'][n]['species'])for n in range (0,3)]\n",
    "# print(student_8)\n",
    "\n",
    "# # 2. then combind the list and remove duplicates by set()\n",
    "\n",
    "# print(student_1 + student_8)\n",
    "# student_1_and_student_8 = (set(student_1 + student_8))\n",
    "# print(student_1_and_student_8)\n",
    "\n",
    "# # 3. cout the set by len()\n",
    "# len(student_1_and_student_8)"
   ]
  },
  {
   "cell_type": "code",
   "execution_count": 53,
   "metadata": {},
   "outputs": [
    {
     "data": {
      "text/plain": [
       "3"
      ]
     },
     "execution_count": 53,
     "metadata": {},
     "output_type": "execute_result"
    }
   ],
   "source": [
    "# Since my strategy is working, so let's put them together\n",
    "\n",
    "def pets_type(x):\n",
    "    n = []\n",
    "    for i in range (0,13):\n",
    "        a = len(students[i]['pets'])\n",
    "        if a == 0:\n",
    "            n = n\n",
    "        if a != 0:\n",
    "            n = n + [(students[i]['pets'][n]['species'])for n in range (0,a)]\n",
    "    return len(set(n))\n",
    "\n",
    "pets_type(students)"
   ]
  },
  {
   "cell_type": "code",
   "execution_count": 14,
   "metadata": {},
   "outputs": [
    {
     "name": "stdout",
     "output_type": "stream",
     "text": [
      "Student 1 grade: total 4\n",
      "Student 2 grade: total 4\n",
      "Student 3 grade: total 4\n",
      "Student 4 grade: total 4\n",
      "Student 5 grade: total 4\n",
      "Student 6 grade: total 4\n",
      "Student 7 grade: total 4\n",
      "Student 8 grade: total 4\n",
      "Student 9 grade: total 4\n",
      "Student 10 grade: total 4\n",
      "Student 11 grade: total 4\n",
      "Student 12 grade: total 4\n",
      "Student 13 grade: total 4\n"
     ]
    }
   ],
   "source": [
    "# Q4: find how many grades the first student has\n",
    "len(students[0]['grades'])\n",
    "# use for loop to find the rest and put them in an empty list\n",
    "\n",
    "def output(y):\n",
    "    for i in range(0,13):\n",
    "        print(f\"Student {i+1} grade: total {y[i]}\")\n",
    "    \n",
    "def number_of_grades(x):\n",
    "    n = []\n",
    "    for i in range (0, 13):\n",
    "        n.append(len(students[i]['grades'])) \n",
    "    return output(n)\n",
    "\n",
    "number_of_grades(students)\n",
    "\n",
    "# Yes, they have all the same grades"
   ]
  },
  {
   "cell_type": "code",
   "execution_count": 42,
   "metadata": {},
   "outputs": [
    {
     "name": "stdout",
     "output_type": "stream",
     "text": [
      "Student 1 avg. grade: 78.5\n",
      "Student 2 avg. grade: 83.5\n",
      "Student 3 avg. grade: 73.25\n",
      "Student 4 avg. grade: 78.5\n",
      "Student 5 avg. grade: 81.5\n",
      "Student 6 avg. grade: 80.75\n",
      "Student 7 avg. grade: 84.5\n",
      "Student 8 avg. grade: 88.75\n",
      "Student 9 avg. grade: 88.75\n",
      "Student 10 avg. grade: 82.5\n",
      "Student 11 avg. grade: 81.5\n",
      "Student 12 avg. grade: 91\n",
      "Student 13 avg. grade: 79\n"
     ]
    }
   ],
   "source": [
    "# Q5: What is each student's grade average?\n",
    "\n",
    "# student's grade is a list so use mean()\n",
    "mean(students[0][\"grades\"])\n",
    "\n",
    "# use FOR LOOP to print out every student's mean grade:\n",
    "\n",
    "from statistics import mean\n",
    "\n",
    "def output(y):\n",
    "    for i in range(0,13):\n",
    "        print(f\"Student {i+1} avg. grade: {y[i]}\")\n",
    "    \n",
    "def mean_grade(x):\n",
    "    n = []\n",
    "    for i in range (0, 13):\n",
    "        n.append(mean(students[i][\"grades\"])) \n",
    "    return output(n)\n",
    "        \n",
    "mean_grade(students)"
   ]
  },
  {
   "cell_type": "code",
   "execution_count": 48,
   "metadata": {},
   "outputs": [
    {
     "name": "stdout",
     "output_type": "stream",
     "text": [
      "Student 0 avg. grade: 78.5\n",
      "Student 1 avg. grade: 83.5\n",
      "Student 2 avg. grade: 73.25\n",
      "Student 3 avg. grade: 78.5\n",
      "Student 4 avg. grade: 81.5\n",
      "Student 5 avg. grade: 80.75\n",
      "Student 6 avg. grade: 84.5\n",
      "Student 7 avg. grade: 88.75\n",
      "Student 8 avg. grade: 88.75\n",
      "Student 9 avg. grade: 82.5\n",
      "Student 10 avg. grade: 81.5\n",
      "Student 11 avg. grade: 91\n",
      "Student 12 avg. grade: 79\n"
     ]
    }
   ],
   "source": [
    "# A simple way instead for Q5: \n",
    "\n",
    "def mean_grade(x):\n",
    "    for i in range (0, 13):\n",
    "        print(f\"Student {i} avg. grade:\", mean(students[i][\"grades\"]))\n",
    "\n",
    "mean_grade(students)"
   ]
  },
  {
   "cell_type": "code",
   "execution_count": 50,
   "metadata": {},
   "outputs": [
    {
     "name": "stdout",
     "output_type": "stream",
     "text": [
      "Student 0 pets number: 1\n",
      "Student 1 pets number: 0\n",
      "Student 2 pets number: 1\n",
      "Student 3 pets number: 2\n",
      "Student 4 pets number: 3\n",
      "Student 5 pets number: 0\n",
      "Student 6 pets number: 1\n",
      "Student 7 pets number: 2\n",
      "Student 8 pets number: 2\n",
      "Student 9 pets number: 1\n",
      "Student 10 pets number: 2\n",
      "Student 11 pets number: 1\n",
      "Student 12 pets number: 1\n"
     ]
    }
   ],
   "source": [
    "# Q6: How many pets does each student have?\n",
    "# similar stragegy for the grade question\n",
    "\n",
    "def pets_number(x):\n",
    "    for i in range (0, 13):\n",
    "        print(f\"Student {i} pets number:\", len(students[i][\"pets\"]))\n",
    "\n",
    "pets_number(students)"
   ]
  },
  {
   "cell_type": "code",
   "execution_count": 52,
   "metadata": {},
   "outputs": [
    {
     "data": {
      "text/plain": [
       "'web development:7 students; data science: 7 students'"
      ]
     },
     "execution_count": 52,
     "metadata": {},
     "output_type": "execute_result"
    }
   ],
   "source": [
    "# Q7: How many students are in web development? data science?\n",
    "# similar to Q2\n",
    "# use FOR LOOP to count\n",
    "\n",
    "def course_sum(x):\n",
    "    n_web = 0\n",
    "    n_data = 0\n",
    "    for i in range(0,14):\n",
    "        if students[i][\"course\"] == \"web development\":\n",
    "            n_web = n_web + 1\n",
    "        if students[i][\"course\"] == \"data science\":\n",
    "            n_data = n_data + 1\n",
    "    return f\"web development:{n_web} students; data science: {n_data} students\"\n",
    "\n",
    "course_sum(students)"
   ]
  },
  {
   "cell_type": "markdown",
   "metadata": {},
   "source": [
    "# Q8: What is the average number of pets for students in web development?"
   ]
  },
  {
   "cell_type": "code",
   "execution_count": 19,
   "metadata": {},
   "outputs": [
    {
     "name": "stdout",
     "output_type": "stream",
     "text": [
      "[1, 1, 3, 1, 1, 1, 1]\n",
      "The average number of pets for students in web development is: 1.2857142857142858\n"
     ]
    }
   ],
   "source": [
    "# Step 1: find out the total number of pets for students in web development.\n",
    "    # List the pets number for each student in web development using list comprehension\n",
    "# Step 2: Avg = Sum()/Len()\n",
    "\n",
    "len(students[0][\"pets\"]) # number of pets for 1st student\n",
    "\n",
    "pets_number_list = [len(students[i][\"pets\"]) for i in range(0,14) if students[i][\"course\"] == \"web development\"]\n",
    "\n",
    "pets_number_list # valid\n",
    "\n",
    "avg_pets = sum(pets_number_list)/len(pets_number_list)\n",
    "\n",
    "print(f\"The average number of pets for students in web development is: {avg_pets}\")"
   ]
  },
  {
   "cell_type": "code",
   "execution_count": 21,
   "metadata": {},
   "outputs": [
    {
     "name": "stdout",
     "output_type": "stream",
     "text": [
      "[0, 2, 0, 2, 2, 2, 1]\n",
      "The average number of pets for students in data science is: 1.2857142857142858\n"
     ]
    }
   ],
   "source": [
    "# How about the average number of pets for students in data science? \n",
    "\n",
    "pets_number_list = [len(students[i][\"pets\"]) for i in range(0,14) if students[i][\"course\"] == \"data science\"]\n",
    "\n",
    "pets_number_list # valid\n",
    "\n",
    "avg_pets = sum(pets_number_list)/len(pets_number_list)\n",
    "\n",
    "print(f\"The average number of pets for students in data science is: {avg_pets}\")"
   ]
  },
  {
   "cell_type": "markdown",
   "metadata": {},
   "source": [
    "# Q9: What is the average pet age for students in data science?"
   ]
  },
  {
   "cell_type": "code",
   "execution_count": 47,
   "metadata": {},
   "outputs": [
    {
     "name": "stdout",
     "output_type": "stream",
     "text": [
      "5.444444444444445\n"
     ]
    }
   ],
   "source": [
    "# Similar strategy to Q8:\n",
    "# List all the pet age for students in data science\n",
    "\n",
    "students[0][\"pets\"][0][\"age\"] # It requires two indices to access th pet age so two loops are needed. \n",
    "\n",
    "# The nested loop returns a list of pet age for each student in data science\n",
    "    # take 4th student for example\n",
    "\n",
    "t_pet_number = len(students[3][\"pets\"])\n",
    "t_pet_number # valid\n",
    "\n",
    "t_pet_age_list = []\n",
    "for i in range(0, pet_number):\n",
    "    t_pet_age_list.append(students[3][\"pets\"][i][\"age\"])\n",
    "\n",
    "t_pet_age_list # valid\n",
    "\n",
    "# The outside loop goes through each student in data science\n",
    "# avg = sum()/len()\n",
    "\n",
    "pet_age_list = []\n",
    "\n",
    "for i in range(0,14):\n",
    "    if students[i][\"course\"] == \"web development\":\n",
    "        continue\n",
    "    elif students[i][\"course\"] == \"data science\":\n",
    "        if len(students[i][\"pets\"]) == 0:\n",
    "            continue\n",
    "        else:\n",
    "            for ii in range(0,len(students[i][\"pets\"])):\n",
    "                pet_age_list.append(students[i][\"pets\"][ii][\"age\"])\n",
    "\n",
    "pet_age_list # valid\n",
    "\n",
    "avg_pet_age = sum(pet_age_list)/len(pet_age_list)\n",
    "print(avg_pet_age)"
   ]
  },
  {
   "cell_type": "markdown",
   "metadata": {},
   "source": [
    "# Q10: What is most frequent coffee preference for data science students?"
   ]
  },
  {
   "cell_type": "code",
   "execution_count": 64,
   "metadata": {},
   "outputs": [
    {
     "name": "stdout",
     "output_type": "stream",
     "text": [
      "medium\n"
     ]
    }
   ],
   "source": [
    "# Stragety: to create a frequency table (list of dicts) for coffee preference then \n",
    "# sort the table(list of dicts) based on its value in a desencding order. The top row will be the answer.\n",
    "   \n",
    "# How many coffee preference for data science students?\n",
    "\n",
    "coffee_preference = []\n",
    "\n",
    "for i in range(0,14):\n",
    "    if students[i][\"course\"] == \"web development\":\n",
    "        continue\n",
    "    elif students[i][\"course\"] == \"data science\":\n",
    "        coffee_preference.append(students[i][\"coffee_preference\"])\n",
    "\n",
    "coffee_preference # valid\n",
    "set(coffee_preference) # valid: two coffee preference: dark and medium\n",
    "\n",
    "# create a list of two dicts of which labels are dark and medium\n",
    "\n",
    "f_table_cp = [\n",
    "    {\"coffee_preference\":\"medium\",\"frequency\":0}, \n",
    "    {\"coffee_preference\":\"dark\",\"frequency\":0}\n",
    "]\n",
    "\n",
    "f_table_cp # valid\n",
    "\n",
    "# find out the frequency for each coffee preference:\n",
    "\n",
    "for i in range(0,14):\n",
    "    if students[i][\"course\"] == \"web development\":\n",
    "        continue\n",
    "    elif students[i][\"course\"] == \"data science\":\n",
    "        if students[i][\"coffee_preference\"] == \"medium\":\n",
    "            f_table_cp[0][\"frequency\"] += 1\n",
    "        if students[i][\"coffee_preference\"] == \"dark\":\n",
    "            f_table_cp[1][\"frequency\"] += 1\n",
    "\n",
    "f_table_cp # valid: medium: 4; dark: 3\n",
    "\n",
    "# sort the list of dicts in descending order by using sorted and lambda\n",
    "\n",
    "f_table_cp = sorted(f_table_cp, key = lambda i: i['frequency'], reverse = True) # desc order\n",
    "f_table_cp # valid\n",
    "\n",
    "print(f_table_cp[0][\"coffee_preference\"])"
   ]
  },
  {
   "cell_type": "code",
   "execution_count": null,
   "metadata": {},
   "outputs": [],
   "source": []
  }
 ],
 "metadata": {
  "kernelspec": {
   "display_name": "Python 3",
   "language": "python",
   "name": "python3"
  },
  "language_info": {
   "codemirror_mode": {
    "name": "ipython",
    "version": 3
   },
   "file_extension": ".py",
   "mimetype": "text/x-python",
   "name": "python",
   "nbconvert_exporter": "python",
   "pygments_lexer": "ipython3",
   "version": "3.7.6"
  }
 },
 "nbformat": 4,
 "nbformat_minor": 4
}
